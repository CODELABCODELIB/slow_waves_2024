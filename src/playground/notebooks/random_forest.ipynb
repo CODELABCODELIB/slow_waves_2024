{
 "cells": [
  {
   "cell_type": "markdown",
   "id": "bb0c5ae3-0b40-4350-9b88-6ccde0e7a5e9",
   "metadata": {},
   "source": [
    "Edited from source: https://machinelearningmastery.com/random-forest-ensemble-in-python/"
   ]
  },
  {
   "cell_type": "code",
   "execution_count": 1,
   "id": "a5e4e698-2634-44b8-a1a9-c36acadd2f01",
   "metadata": {},
   "outputs": [],
   "source": [
    "import sklearn\n",
    "import numpy as np\n",
    "import pandas as pd\n",
    "import h5py\n",
    "from sklearn.datasets import make_regression\n",
    "from sklearn.model_selection import cross_val_score\n",
    "from sklearn.model_selection import RepeatedKFold\n",
    "from sklearn.ensemble import RandomForestRegressor, RandomForestClassifier"
   ]
  },
  {
   "cell_type": "markdown",
   "id": "6fdf29fa-aec1-48a9-9c33-5b281885755e",
   "metadata": {},
   "source": [
    "# Import the dataset"
   ]
  },
  {
   "cell_type": "code",
   "execution_count": 2,
   "id": "9c9d5a95-459a-43d3-8bd3-2cb46c806953",
   "metadata": {},
   "outputs": [],
   "source": [
    "\n",
    "file_name = '../../../data/jid_playground/jid_eeg.h5'\n",
    "df1 = pd.DataFrame(np.array(h5py.File(file_name)['eeg/bin500']))\n",
    "df1 = df1.dropna()"
   ]
  },
  {
   "cell_type": "code",
   "execution_count": 3,
   "id": "521179d3-6def-4fab-8cf7-0cc9c46c8bec",
   "metadata": {},
   "outputs": [
    {
     "name": "stdout",
     "output_type": "stream",
     "text": [
      "1532\n"
     ]
    }
   ],
   "source": [
    "bin_numbers = list()\n",
    "with h5py.File(file_name, \"r\") as f:\n",
    "    # Access the desired group directly\n",
    "    group = f['eeg'] \n",
    "    print(len(f.keys()))\n",
    "    # Iterate over datasets within the group'\n",
    "    # Calculate the total size of the output array\n",
    "    x = np.empty((9626*64, 2500), dtype=f[next(iter(f))][()].dtype) \n",
    "    count = 0\n",
    "    for key, d in group.items():\n",
    "        bin_numbers.append(key)\n",
    "        x[:,count] = np.reshape(d,(9626*64))\n",
    "        count += 1\n",
    "bin_numbers = np.array([int(bin.replace('bin', '')) for bin in bin_numbers])"
   ]
  },
  {
   "cell_type": "code",
   "execution_count": 4,
   "id": "e456ab6f-12e5-4c4e-a113-84a37037fb2e",
   "metadata": {},
   "outputs": [
    {
     "name": "stdout",
     "output_type": "stream",
     "text": [
      "(2500, 616064) (2500,)\n"
     ]
    }
   ],
   "source": [
    "print(x.T.shape, bin_numbers.shape)"
   ]
  },
  {
   "cell_type": "markdown",
   "id": "de034953-9b14-4fa8-8f54-b3928b67e207",
   "metadata": {},
   "source": [
    "# Train the random forest"
   ]
  },
  {
   "cell_type": "code",
   "execution_count": null,
   "id": "cfc3876e-643f-4d6c-87a1-c118a2c4029c",
   "metadata": {},
   "outputs": [],
   "source": [
    "# define the model\n",
    "model = RandomForestClassifier()\n",
    "# evaluate the model\n",
    "cv = RepeatedKFold(n_splits=10, n_repeats=3, random_state=1)\n",
    "n_scores = cross_val_score(model, x.T, bin_numbers, scoring='neg_mean_absolute_error', cv=cv, n_jobs=1, error_score='raise')\n",
    "# report performance\n",
    "print('MAE: %.3f (%.3f)' % (np.mean(n_scores), np.std(n_scores)))"
   ]
  },
  {
   "cell_type": "markdown",
   "id": "1d889c0e-95f0-4002-9d51-edb62d592a44",
   "metadata": {},
   "source": [
    "# Extra"
   ]
  },
  {
   "cell_type": "code",
   "execution_count": null,
   "id": "3e6b4df4-9c9f-4b98-bca1-f4ff1c5b4457",
   "metadata": {},
   "outputs": [],
   "source": [
    "\"\"\"with h5py.File(file_name, \"r\") as f:\n",
    "    # Access the desired group directly\n",
    "    group = f['eeg'] \n",
    "    bin_numbers = list(group)\n",
    "    # Iterate over datasets within the group'\n",
    "    # Calculate the total size of the output array\n",
    "    x = np.empty((9626,64, len(f.keys())), dtype=f[next(iter(f))][()].dtype) \n",
    "    for i in range(len(bin_numbers)):   \n",
    "        x[:,count] = f[bin_numbers[i]][()]\n",
    "        count += 1\n",
    "bin_numbers = [int(bin.replace('bin', '')) for bin in bin_numbers]\"\"\""
   ]
  }
 ],
 "metadata": {
  "kernelspec": {
   "display_name": "Python 3 (ipykernel)",
   "language": "python",
   "name": "python3"
  },
  "language_info": {
   "codemirror_mode": {
    "name": "ipython",
    "version": 3
   },
   "file_extension": ".py",
   "mimetype": "text/x-python",
   "name": "python",
   "nbconvert_exporter": "python",
   "pygments_lexer": "ipython3",
   "version": "3.12.4"
  }
 },
 "nbformat": 4,
 "nbformat_minor": 5
}
